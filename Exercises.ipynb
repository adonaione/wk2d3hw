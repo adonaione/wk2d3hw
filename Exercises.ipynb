{
 "cells": [
  {
   "cell_type": "markdown",
   "metadata": {},
   "source": [
    "### Exercise 1"
   ]
  },
  {
   "cell_type": "markdown",
   "metadata": {},
   "source": [
    "Given an array of positive integers `nums`, return a list of all of the negative integers.<br>\n",
    "Ex. 1<br>\n",
    "nums = [1, 3, 5, 7, 8]<br>\n",
    "Expected Output: [-1, -3, -5, -7, -8]<br>\n",
    "\n",
    "Ex. 2<br>\n",
    "nums = [100, 534, 32, 15, 77, 222, 788, 345, 75645, 22]<br>\n",
    "Expected Output: [-100, -534, -32, -15, -77, -222, -788, -345, -75645, -22]<br>"
   ]
  },
  {
   "cell_type": "code",
   "execution_count": 2,
   "metadata": {},
   "outputs": [
    {
     "name": "stdout",
     "output_type": "stream",
     "text": [
      "[-1, -3, -5, -7, -8]\n",
      "[-100, -534, -32, -15, -77, -222, -788, -345, -75645, -22]\n"
     ]
    }
   ],
   "source": [
    "nums = [1, 3, 5, 7, 8]\n",
    "nums2 = [100, 534, 32, 15, 77, 222, 788, 345, 75645, 22]\n",
    "\n",
    "# create a function for negative numbers \n",
    "def neg_nums(nums_list):\n",
    "    new_list = [] #created new list\n",
    "    # loop through numbers in list\n",
    "    for num in nums_list:\n",
    "        #change numbers to negative ***could have wrote 1 line, new_list.append(num*-1)***\n",
    "        neg_num = num * (-1)\n",
    "        #add neg num to new list\n",
    "        new_list.append(neg_num)\n",
    "    return new_list\n",
    "    \n",
    "# print(neg_nums(nums))\n",
    "\n",
    "print(neg_nums(nums))\n",
    "print(neg_nums(nums2))"
   ]
  },
  {
   "cell_type": "markdown",
   "metadata": {},
   "source": [
    "### Exercise 2"
   ]
  },
  {
   "cell_type": "markdown",
   "metadata": {},
   "source": [
    "Given a string, return a list of all of the digits in the string.<br>\n",
    "Ex. 1 <br>\n",
    "address = \"123 Real Street, Apt. 2, Springfield, OR 43498\"<br>\n",
    "Expected Output: ['1', '2', '3', '2', '4', '3', '4', '9', '8']<br>\n",
    "\n",
    "Ex. 2 <br>\n",
    "sentence = \"My phone number is (555) 555-4321\"<br>\n",
    "Expected Output: ['5', '5', '5', '5', '5', '5', '4', '3', '2', '1']<br>"
   ]
  },
  {
   "cell_type": "code",
   "execution_count": 6,
   "metadata": {},
   "outputs": [
    {
     "name": "stdout",
     "output_type": "stream",
     "text": [
      "['1', '2', '3', '2', '4', '3', '4', '9', '8']\n",
      "['5', '5', '5', '5', '5', '5', '4', '3', '2', '1']\n"
     ]
    }
   ],
   "source": [
    "# Hint: Look at the string methods! -- help(str)\n",
    "address = \"123 Real Street, Apt. 2, Springfield, OR 43498\"\n",
    "sentence = \"My phone number is (555) 555-4321\"\n",
    "# create a function that will pull all of the digits from a string\n",
    "# def nums_in_str(string):\n",
    "#     num_list = []\n",
    "# #     #loop through the string\n",
    "#     for num in string:    \n",
    "# #     #action of pulling numbers\n",
    "#         new = string.isdigit()\n",
    "#         num_list.append(new)\n",
    "# #     #return numbers only\n",
    "#     return num_list\n",
    "# print(nums_in_str(address))\n",
    "\n",
    "def nums_in_str(string):\n",
    "    num_list = []\n",
    "    for char in string:\n",
    "        if char.isdigit():\n",
    "            num_list.append(char)\n",
    "    return num_list\n",
    "\n",
    "print(nums_in_str(address))\n",
    "print(nums_in_str(sentence))"
   ]
  },
  {
   "cell_type": "code",
   "execution_count": null,
   "metadata": {},
   "outputs": [],
   "source": []
  },
  {
   "cell_type": "markdown",
   "metadata": {},
   "source": [
    "### Exercise 3"
   ]
  },
  {
   "cell_type": "markdown",
   "metadata": {},
   "source": [
    "Given a string `digits`, return a **string** of the digits + 1<br>\n",
    "\n",
    "Ex. 1<br>\n",
    "digits = '123'<br>\n",
    "Expected Output: '124'<br>\n",
    "\n",
    "Ex. 2<br>\n",
    "digits = '99'<br>\n",
    "Expected Output: '100'<br>"
   ]
  },
  {
   "cell_type": "code",
   "execution_count": 9,
   "metadata": {},
   "outputs": [
    {
     "name": "stdout",
     "output_type": "stream",
     "text": [
      "124\n",
      "100\n"
     ]
    }
   ],
   "source": [
    "digits = '123'\n",
    "\n",
    "digits2 = '99'\n",
    "\n",
    "\n",
    "print(int(digits) + 1)\n",
    "print(int(digits2) + 1)"
   ]
  },
  {
   "cell_type": "code",
   "execution_count": null,
   "metadata": {},
   "outputs": [],
   "source": []
  }
 ],
 "metadata": {
  "kernelspec": {
   "display_name": "Python 3 (ipykernel)",
   "language": "python",
   "name": "python3"
  },
  "language_info": {
   "codemirror_mode": {
    "name": "ipython",
    "version": 3
   },
   "file_extension": ".py",
   "mimetype": "text/x-python",
   "name": "python",
   "nbconvert_exporter": "python",
   "pygments_lexer": "ipython3",
   "version": "3.11.5"
  }
 },
 "nbformat": 4,
 "nbformat_minor": 4
}
